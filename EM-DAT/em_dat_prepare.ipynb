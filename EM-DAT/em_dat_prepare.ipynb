{
 "cells": [
  {
   "cell_type": "code",
   "execution_count": 1,
   "metadata": {},
   "outputs": [
    {
     "data": {
      "text/html": [
       "<div>\n",
       "<style scoped>\n",
       "    .dataframe tbody tr th:only-of-type {\n",
       "        vertical-align: middle;\n",
       "    }\n",
       "\n",
       "    .dataframe tbody tr th {\n",
       "        vertical-align: top;\n",
       "    }\n",
       "\n",
       "    .dataframe thead th {\n",
       "        text-align: right;\n",
       "    }\n",
       "</style>\n",
       "<table border=\"1\" class=\"dataframe\">\n",
       "  <thead>\n",
       "    <tr style=\"text-align: right;\">\n",
       "      <th></th>\n",
       "      <th>DisNo.</th>\n",
       "      <th>Historic</th>\n",
       "      <th>Classification Key</th>\n",
       "      <th>Disaster Group</th>\n",
       "      <th>Disaster Subgroup</th>\n",
       "      <th>Disaster Type</th>\n",
       "      <th>Disaster Subtype</th>\n",
       "      <th>External IDs</th>\n",
       "      <th>Event Name</th>\n",
       "      <th>ISO</th>\n",
       "      <th>...</th>\n",
       "      <th>Reconstruction Costs ('000 US$)</th>\n",
       "      <th>Reconstruction Costs, Adjusted ('000 US$)</th>\n",
       "      <th>Insured Damage ('000 US$)</th>\n",
       "      <th>Insured Damage, Adjusted ('000 US$)</th>\n",
       "      <th>Total Damage ('000 US$)</th>\n",
       "      <th>Total Damage, Adjusted ('000 US$)</th>\n",
       "      <th>CPI</th>\n",
       "      <th>Admin Units</th>\n",
       "      <th>Entry Date</th>\n",
       "      <th>Last Update</th>\n",
       "    </tr>\n",
       "  </thead>\n",
       "  <tbody>\n",
       "    <tr>\n",
       "      <th>0</th>\n",
       "      <td>1999-9388-DJI</td>\n",
       "      <td>No</td>\n",
       "      <td>nat-cli-dro-dro</td>\n",
       "      <td>Natural</td>\n",
       "      <td>Climatological</td>\n",
       "      <td>Drought</td>\n",
       "      <td>Drought</td>\n",
       "      <td>NaN</td>\n",
       "      <td>NaN</td>\n",
       "      <td>DJI</td>\n",
       "      <td>...</td>\n",
       "      <td>NaN</td>\n",
       "      <td>NaN</td>\n",
       "      <td>NaN</td>\n",
       "      <td>NaN</td>\n",
       "      <td>NaN</td>\n",
       "      <td>NaN</td>\n",
       "      <td>58.111474</td>\n",
       "      <td>[{\"adm1_code\":1093,\"adm1_name\":\"Ali Sabieh\"},{...</td>\n",
       "      <td>2006-03-01</td>\n",
       "      <td>2023-09-25</td>\n",
       "    </tr>\n",
       "    <tr>\n",
       "      <th>1</th>\n",
       "      <td>1999-9388-SDN</td>\n",
       "      <td>No</td>\n",
       "      <td>nat-cli-dro-dro</td>\n",
       "      <td>Natural</td>\n",
       "      <td>Climatological</td>\n",
       "      <td>Drought</td>\n",
       "      <td>Drought</td>\n",
       "      <td>NaN</td>\n",
       "      <td>NaN</td>\n",
       "      <td>SDN</td>\n",
       "      <td>...</td>\n",
       "      <td>NaN</td>\n",
       "      <td>NaN</td>\n",
       "      <td>NaN</td>\n",
       "      <td>NaN</td>\n",
       "      <td>NaN</td>\n",
       "      <td>NaN</td>\n",
       "      <td>56.514291</td>\n",
       "      <td>[{\"adm1_code\":2757,\"adm1_name\":\"Northern Darfu...</td>\n",
       "      <td>2006-03-08</td>\n",
       "      <td>2023-09-25</td>\n",
       "    </tr>\n",
       "    <tr>\n",
       "      <th>2</th>\n",
       "      <td>1999-9388-SOM</td>\n",
       "      <td>No</td>\n",
       "      <td>nat-cli-dro-dro</td>\n",
       "      <td>Natural</td>\n",
       "      <td>Climatological</td>\n",
       "      <td>Drought</td>\n",
       "      <td>Drought</td>\n",
       "      <td>NaN</td>\n",
       "      <td>NaN</td>\n",
       "      <td>SOM</td>\n",
       "      <td>...</td>\n",
       "      <td>NaN</td>\n",
       "      <td>NaN</td>\n",
       "      <td>NaN</td>\n",
       "      <td>NaN</td>\n",
       "      <td>NaN</td>\n",
       "      <td>NaN</td>\n",
       "      <td>56.514291</td>\n",
       "      <td>[{\"adm1_code\":2691,\"adm1_name\":\"Bay\"},{\"adm1_c...</td>\n",
       "      <td>2006-03-08</td>\n",
       "      <td>2023-09-25</td>\n",
       "    </tr>\n",
       "    <tr>\n",
       "      <th>3</th>\n",
       "      <td>2000-0001-AGO</td>\n",
       "      <td>No</td>\n",
       "      <td>tec-tra-roa-roa</td>\n",
       "      <td>Technological</td>\n",
       "      <td>Transport</td>\n",
       "      <td>Road</td>\n",
       "      <td>Road</td>\n",
       "      <td>NaN</td>\n",
       "      <td>NaN</td>\n",
       "      <td>AGO</td>\n",
       "      <td>...</td>\n",
       "      <td>NaN</td>\n",
       "      <td>NaN</td>\n",
       "      <td>NaN</td>\n",
       "      <td>NaN</td>\n",
       "      <td>NaN</td>\n",
       "      <td>NaN</td>\n",
       "      <td>56.514291</td>\n",
       "      <td>NaN</td>\n",
       "      <td>2004-10-27</td>\n",
       "      <td>2023-09-25</td>\n",
       "    </tr>\n",
       "    <tr>\n",
       "      <th>4</th>\n",
       "      <td>2000-0002-AGO</td>\n",
       "      <td>No</td>\n",
       "      <td>nat-hyd-flo-riv</td>\n",
       "      <td>Natural</td>\n",
       "      <td>Hydrological</td>\n",
       "      <td>Flood</td>\n",
       "      <td>Riverine flood</td>\n",
       "      <td>NaN</td>\n",
       "      <td>NaN</td>\n",
       "      <td>AGO</td>\n",
       "      <td>...</td>\n",
       "      <td>NaN</td>\n",
       "      <td>NaN</td>\n",
       "      <td>NaN</td>\n",
       "      <td>NaN</td>\n",
       "      <td>10000.0</td>\n",
       "      <td>17695.0</td>\n",
       "      <td>56.514291</td>\n",
       "      <td>[{\"adm2_code\":4214,\"adm2_name\":\"Baia Farta\"},{...</td>\n",
       "      <td>2005-02-03</td>\n",
       "      <td>2023-09-25</td>\n",
       "    </tr>\n",
       "  </tbody>\n",
       "</table>\n",
       "<p>5 rows × 46 columns</p>\n",
       "</div>"
      ],
      "text/plain": [
       "          DisNo. Historic Classification Key Disaster Group Disaster Subgroup  \\\n",
       "0  1999-9388-DJI       No    nat-cli-dro-dro        Natural    Climatological   \n",
       "1  1999-9388-SDN       No    nat-cli-dro-dro        Natural    Climatological   \n",
       "2  1999-9388-SOM       No    nat-cli-dro-dro        Natural    Climatological   \n",
       "3  2000-0001-AGO       No    tec-tra-roa-roa  Technological         Transport   \n",
       "4  2000-0002-AGO       No    nat-hyd-flo-riv        Natural      Hydrological   \n",
       "\n",
       "  Disaster Type Disaster Subtype External IDs Event Name  ISO  ...  \\\n",
       "0       Drought          Drought          NaN        NaN  DJI  ...   \n",
       "1       Drought          Drought          NaN        NaN  SDN  ...   \n",
       "2       Drought          Drought          NaN        NaN  SOM  ...   \n",
       "3          Road             Road          NaN        NaN  AGO  ...   \n",
       "4         Flood   Riverine flood          NaN        NaN  AGO  ...   \n",
       "\n",
       "  Reconstruction Costs ('000 US$) Reconstruction Costs, Adjusted ('000 US$)  \\\n",
       "0                             NaN                                       NaN   \n",
       "1                             NaN                                       NaN   \n",
       "2                             NaN                                       NaN   \n",
       "3                             NaN                                       NaN   \n",
       "4                             NaN                                       NaN   \n",
       "\n",
       "  Insured Damage ('000 US$) Insured Damage, Adjusted ('000 US$)  \\\n",
       "0                       NaN                                 NaN   \n",
       "1                       NaN                                 NaN   \n",
       "2                       NaN                                 NaN   \n",
       "3                       NaN                                 NaN   \n",
       "4                       NaN                                 NaN   \n",
       "\n",
       "  Total Damage ('000 US$) Total Damage, Adjusted ('000 US$)        CPI  \\\n",
       "0                     NaN                               NaN  58.111474   \n",
       "1                     NaN                               NaN  56.514291   \n",
       "2                     NaN                               NaN  56.514291   \n",
       "3                     NaN                               NaN  56.514291   \n",
       "4                 10000.0                           17695.0  56.514291   \n",
       "\n",
       "                                         Admin Units  Entry Date  Last Update  \n",
       "0  [{\"adm1_code\":1093,\"adm1_name\":\"Ali Sabieh\"},{...  2006-03-01   2023-09-25  \n",
       "1  [{\"adm1_code\":2757,\"adm1_name\":\"Northern Darfu...  2006-03-08   2023-09-25  \n",
       "2  [{\"adm1_code\":2691,\"adm1_name\":\"Bay\"},{\"adm1_c...  2006-03-08   2023-09-25  \n",
       "3                                                NaN  2004-10-27   2023-09-25  \n",
       "4  [{\"adm2_code\":4214,\"adm2_name\":\"Baia Farta\"},{...  2005-02-03   2023-09-25  \n",
       "\n",
       "[5 rows x 46 columns]"
      ]
     },
     "execution_count": 1,
     "metadata": {},
     "output_type": "execute_result"
    }
   ],
   "source": [
    "import pandas as pd\n",
    "\n",
    "df = pd.read_excel(\"raw_em_dat.xlsx\")\n",
    "\n",
    "df.head()"
   ]
  },
  {
   "cell_type": "code",
   "execution_count": 2,
   "metadata": {},
   "outputs": [
    {
     "data": {
      "text/html": [
       "<div>\n",
       "<style scoped>\n",
       "    .dataframe tbody tr th:only-of-type {\n",
       "        vertical-align: middle;\n",
       "    }\n",
       "\n",
       "    .dataframe tbody tr th {\n",
       "        vertical-align: top;\n",
       "    }\n",
       "\n",
       "    .dataframe thead th {\n",
       "        text-align: right;\n",
       "    }\n",
       "</style>\n",
       "<table border=\"1\" class=\"dataframe\">\n",
       "  <thead>\n",
       "    <tr style=\"text-align: right;\">\n",
       "      <th></th>\n",
       "      <th>ISO</th>\n",
       "      <th>Disaster Type</th>\n",
       "      <th>Total Deaths</th>\n",
       "      <th>No. Injured</th>\n",
       "      <th>No. Affected</th>\n",
       "      <th>Total Affected</th>\n",
       "      <th>Start Year</th>\n",
       "      <th>Start Month</th>\n",
       "      <th>Start Day</th>\n",
       "      <th>End Year</th>\n",
       "      <th>End Month</th>\n",
       "      <th>End Day</th>\n",
       "      <th>Entry Date</th>\n",
       "      <th>Last Update</th>\n",
       "    </tr>\n",
       "  </thead>\n",
       "  <tbody>\n",
       "    <tr>\n",
       "      <th>15285</th>\n",
       "      <td>SVN</td>\n",
       "      <td>Flood</td>\n",
       "      <td>6.0</td>\n",
       "      <td>NaN</td>\n",
       "      <td>1500120.0</td>\n",
       "      <td>1500120.0</td>\n",
       "      <td>2023</td>\n",
       "      <td>8.0</td>\n",
       "      <td>3.0</td>\n",
       "      <td>2023</td>\n",
       "      <td>8.0</td>\n",
       "      <td>4.0</td>\n",
       "      <td>2023-08-04</td>\n",
       "      <td>2025-04-03</td>\n",
       "    </tr>\n",
       "    <tr>\n",
       "      <th>16092</th>\n",
       "      <td>USA</td>\n",
       "      <td>Wildfire</td>\n",
       "      <td>30.0</td>\n",
       "      <td>NaN</td>\n",
       "      <td>NaN</td>\n",
       "      <td>NaN</td>\n",
       "      <td>2025</td>\n",
       "      <td>1.0</td>\n",
       "      <td>6.0</td>\n",
       "      <td>2025</td>\n",
       "      <td>1.0</td>\n",
       "      <td>23.0</td>\n",
       "      <td>2025-01-09</td>\n",
       "      <td>2025-04-03</td>\n",
       "    </tr>\n",
       "    <tr>\n",
       "      <th>16178</th>\n",
       "      <td>KOR</td>\n",
       "      <td>Wildfire</td>\n",
       "      <td>31.0</td>\n",
       "      <td>44.0</td>\n",
       "      <td>12045.0</td>\n",
       "      <td>12089.0</td>\n",
       "      <td>2025</td>\n",
       "      <td>3.0</td>\n",
       "      <td>21.0</td>\n",
       "      <td>2025</td>\n",
       "      <td>3.0</td>\n",
       "      <td>25.0</td>\n",
       "      <td>2025-03-25</td>\n",
       "      <td>2025-04-03</td>\n",
       "    </tr>\n",
       "    <tr>\n",
       "      <th>16183</th>\n",
       "      <td>MMR</td>\n",
       "      <td>Earthquake</td>\n",
       "      <td>3426.0</td>\n",
       "      <td>4715.0</td>\n",
       "      <td>15200000.0</td>\n",
       "      <td>15204715.0</td>\n",
       "      <td>2025</td>\n",
       "      <td>3.0</td>\n",
       "      <td>28.0</td>\n",
       "      <td>2025</td>\n",
       "      <td>3.0</td>\n",
       "      <td>28.0</td>\n",
       "      <td>2025-03-28</td>\n",
       "      <td>2025-04-03</td>\n",
       "    </tr>\n",
       "    <tr>\n",
       "      <th>16184</th>\n",
       "      <td>THA</td>\n",
       "      <td>Earthquake</td>\n",
       "      <td>20.0</td>\n",
       "      <td>35.0</td>\n",
       "      <td>2313.0</td>\n",
       "      <td>2348.0</td>\n",
       "      <td>2025</td>\n",
       "      <td>3.0</td>\n",
       "      <td>28.0</td>\n",
       "      <td>2025</td>\n",
       "      <td>3.0</td>\n",
       "      <td>28.0</td>\n",
       "      <td>2025-03-28</td>\n",
       "      <td>2025-04-03</td>\n",
       "    </tr>\n",
       "  </tbody>\n",
       "</table>\n",
       "</div>"
      ],
      "text/plain": [
       "       ISO Disaster Type  Total Deaths  No. Injured  No. Affected  \\\n",
       "15285  SVN         Flood           6.0          NaN     1500120.0   \n",
       "16092  USA      Wildfire          30.0          NaN           NaN   \n",
       "16178  KOR      Wildfire          31.0         44.0       12045.0   \n",
       "16183  MMR    Earthquake        3426.0       4715.0    15200000.0   \n",
       "16184  THA    Earthquake          20.0         35.0        2313.0   \n",
       "\n",
       "       Total Affected  Start Year  Start Month  Start Day  End Year  \\\n",
       "15285       1500120.0        2023          8.0        3.0      2023   \n",
       "16092             NaN        2025          1.0        6.0      2025   \n",
       "16178         12089.0        2025          3.0       21.0      2025   \n",
       "16183      15204715.0        2025          3.0       28.0      2025   \n",
       "16184          2348.0        2025          3.0       28.0      2025   \n",
       "\n",
       "       End Month  End Day  Entry Date Last Update  \n",
       "15285        8.0      4.0  2023-08-04  2025-04-03  \n",
       "16092        1.0     23.0  2025-01-09  2025-04-03  \n",
       "16178        3.0     25.0  2025-03-25  2025-04-03  \n",
       "16183        3.0     28.0  2025-03-28  2025-04-03  \n",
       "16184        3.0     28.0  2025-03-28  2025-04-03  "
      ]
     },
     "execution_count": 2,
     "metadata": {},
     "output_type": "execute_result"
    }
   ],
   "source": [
    "df[df['Last Update'] == df['Last Update'].max()][['ISO', 'Disaster Type', \"Total Deaths\", \"No. Injured\", \"No. Affected\", \"Total Affected\", \"Start Year\", \"Start Month\", \"Start Day\", \"End Year\", \"End Month\", \"End Day\", \"Entry Date\", \"Last Update\"]]"
   ]
  },
  {
   "cell_type": "code",
   "execution_count": 3,
   "metadata": {},
   "outputs": [
    {
     "data": {
      "text/plain": [
       "(16188, 46)"
      ]
     },
     "execution_count": 3,
     "metadata": {},
     "output_type": "execute_result"
    }
   ],
   "source": [
    "df.shape"
   ]
  },
  {
   "cell_type": "code",
   "execution_count": 4,
   "metadata": {},
   "outputs": [
    {
     "data": {
      "text/plain": [
       "10291"
      ]
     },
     "execution_count": 4,
     "metadata": {},
     "output_type": "execute_result"
    }
   ],
   "source": [
    "len(df[df[\"Disaster Group\"] == \"Natural\"]) ##will keep all types of disasters to have more disaster data with people affected"
   ]
  },
  {
   "cell_type": "code",
   "execution_count": 5,
   "metadata": {},
   "outputs": [
    {
     "data": {
      "text/plain": [
       "DisNo.                                        object\n",
       "Historic                                      object\n",
       "Classification Key                            object\n",
       "Disaster Group                                object\n",
       "Disaster Subgroup                             object\n",
       "Disaster Type                                 object\n",
       "Disaster Subtype                              object\n",
       "External IDs                                  object\n",
       "Event Name                                    object\n",
       "ISO                                           object\n",
       "Country                                       object\n",
       "Subregion                                     object\n",
       "Region                                        object\n",
       "Location                                      object\n",
       "Origin                                        object\n",
       "Associated Types                              object\n",
       "OFDA/BHA Response                             object\n",
       "Appeal                                        object\n",
       "Declaration                                   object\n",
       "AID Contribution ('000 US$)                  float64\n",
       "Magnitude                                    float64\n",
       "Magnitude Scale                               object\n",
       "Latitude                                     float64\n",
       "Longitude                                    float64\n",
       "River Basin                                   object\n",
       "Start Year                                     int64\n",
       "Start Month                                  float64\n",
       "Start Day                                    float64\n",
       "End Year                                       int64\n",
       "End Month                                    float64\n",
       "End Day                                      float64\n",
       "Total Deaths                                 float64\n",
       "No. Injured                                  float64\n",
       "No. Affected                                 float64\n",
       "No. Homeless                                 float64\n",
       "Total Affected                               float64\n",
       "Reconstruction Costs ('000 US$)              float64\n",
       "Reconstruction Costs, Adjusted ('000 US$)    float64\n",
       "Insured Damage ('000 US$)                    float64\n",
       "Insured Damage, Adjusted ('000 US$)          float64\n",
       "Total Damage ('000 US$)                      float64\n",
       "Total Damage, Adjusted ('000 US$)            float64\n",
       "CPI                                          float64\n",
       "Admin Units                                   object\n",
       "Entry Date                                    object\n",
       "Last Update                                   object\n",
       "dtype: object"
      ]
     },
     "execution_count": 5,
     "metadata": {},
     "output_type": "execute_result"
    }
   ],
   "source": [
    "df.dtypes"
   ]
  },
  {
   "cell_type": "code",
   "execution_count": 7,
   "metadata": {},
   "outputs": [],
   "source": [
    "#Filtering relevant features (total affected = No. Affected + No. Injured, so removing to avoid colinearity)\n",
    "df = df[[\"ISO\", \"Country\", \"Disaster Type\", \"Total Deaths\", \"No. Injured\", \"No. Affected\", \"Start Year\", \"Start Month\", \"Start Day\", \"End Year\", \"End Month\", \"End Day\", \"Entry Date\", \"Last Update\"]]"
   ]
  },
  {
   "cell_type": "code",
   "execution_count": 8,
   "metadata": {},
   "outputs": [
    {
     "data": {
      "text/plain": [
       "ISO                  0\n",
       "Country              0\n",
       "Disaster Type        0\n",
       "Total Deaths      3163\n",
       "No. Injured      10180\n",
       "No. Affected      8696\n",
       "Start Year           0\n",
       "Start Month         69\n",
       "Start Day         1570\n",
       "End Year             0\n",
       "End Month          163\n",
       "End Day           1498\n",
       "Entry Date           0\n",
       "Last Update          0\n",
       "dtype: int64"
      ]
     },
     "execution_count": 8,
     "metadata": {},
     "output_type": "execute_result"
    }
   ],
   "source": [
    "df.isnull().sum()"
   ]
  },
  {
   "cell_type": "code",
   "execution_count": null,
   "metadata": {},
   "outputs": [],
   "source": [
    "# Fill Start Month with End Month if available\n",
    "df['Start Month'] = df['Start Month'].fillna(df['End Month'])\n",
    "\n",
    "# Fill End Month with Start Month if available\n",
    "df['End Month'] = df['End Month'].fillna(df['Start Month'])\n",
    "\n",
    "# Fill remaining NaNs with 1\n",
    "df['Start Month'] = df['Start Month'].fillna(1)\n",
    "df['End Month'] = df['End Month'].fillna(1)"
   ]
  },
  {
   "cell_type": "code",
   "execution_count": 10,
   "metadata": {},
   "outputs": [],
   "source": [
    "# Fill Start Day with End Day if available\n",
    "df['Start Day'] = df['Start Day'].fillna(df['End Day'])\n",
    "\n",
    "# Fill End Day with Start Day if available\n",
    "df['End Day'] = df['End Day'].fillna(df['Start Day'])\n",
    "\n",
    "# Fill remaining NaNs with 1\n",
    "df['Start Day'] = df['Start Day'].fillna(1)\n",
    "df['End Day'] = df['End Day'].fillna(1)"
   ]
  },
  {
   "cell_type": "code",
   "execution_count": 11,
   "metadata": {},
   "outputs": [
    {
     "data": {
      "text/plain": [
       "ISO                  0\n",
       "Country              0\n",
       "Disaster Type        0\n",
       "Total Deaths      3163\n",
       "No. Injured      10180\n",
       "No. Affected      8696\n",
       "Start Year           0\n",
       "Start Month          0\n",
       "Start Day            0\n",
       "End Year             0\n",
       "End Month            0\n",
       "End Day              0\n",
       "Entry Date           0\n",
       "Last Update          0\n",
       "dtype: int64"
      ]
     },
     "execution_count": 11,
     "metadata": {},
     "output_type": "execute_result"
    }
   ],
   "source": [
    "df.isnull().sum()"
   ]
  },
  {
   "cell_type": "code",
   "execution_count": 12,
   "metadata": {},
   "outputs": [],
   "source": [
    "# Define condition: all three columns are NaN\n",
    "mask = df[['Total Deaths', 'No. Injured', 'No. Affected']].isna().all(axis=1)\n",
    "\n",
    "# Fill only those rows with 0 in the specified columns\n",
    "df.loc[mask, ['Total Deaths', 'No. Injured', 'No. Affected']] = 0"
   ]
  },
  {
   "cell_type": "code",
   "execution_count": 13,
   "metadata": {},
   "outputs": [
    {
     "data": {
      "text/plain": [
       "ISO                 0\n",
       "Country             0\n",
       "Disaster Type       0\n",
       "Total Deaths     2427\n",
       "No. Injured      9444\n",
       "No. Affected     7960\n",
       "Start Year          0\n",
       "Start Month         0\n",
       "Start Day           0\n",
       "End Year            0\n",
       "End Month           0\n",
       "End Day             0\n",
       "Entry Date          0\n",
       "Last Update         0\n",
       "dtype: int64"
      ]
     },
     "execution_count": 13,
     "metadata": {},
     "output_type": "execute_result"
    }
   ],
   "source": [
    "df.isnull().sum()"
   ]
  },
  {
   "cell_type": "code",
   "execution_count": 78,
   "metadata": {},
   "outputs": [
    {
     "data": {
      "image/png": "[encoded data removed]",
      "text/plain": [
       "<Figure size 750x750 with 12 Axes>"
      ]
     },
     "metadata": {},
     "output_type": "display_data"
    }
   ],
   "source": [
    "import seaborn as sns\n",
    "import matplotlib.pyplot as plt\n",
    "\n",
    "sns.pairplot(df[['Total Deaths', 'No. Injured', 'No. Affected']])\n",
    "plt.title('Pair Plot of Total Deaths, Injuries, and Affected')\n",
    "plt.show()\n"
   ]
  },
  {
   "cell_type": "code",
   "execution_count": 14,
   "metadata": {},
   "outputs": [
    {
     "data": {
      "text/plain": [
       "7094"
      ]
     },
     "execution_count": 14,
     "metadata": {},
     "output_type": "execute_result"
    }
   ],
   "source": [
    "mask = df['Total Deaths'] > 1\n",
    "len(df[mask & df['No. Injured'].isna()])"
   ]
  },
  {
   "cell_type": "code",
   "execution_count": 15,
   "metadata": {},
   "outputs": [
    {
     "data": {
      "text/plain": [
       "7404"
      ]
     },
     "execution_count": 15,
     "metadata": {},
     "output_type": "execute_result"
    }
   ],
   "source": [
    "mask = df['Total Deaths'] > 1\n",
    "len(df[mask & df['No. Affected'].isna()])"
   ]
  },
  {
   "cell_type": "code",
   "execution_count": 16,
   "metadata": {},
   "outputs": [],
   "source": [
    "# Calculate the percentage of No. Injured to Total Deaths for existing values\n",
    "#injured_percentage = df.loc[df['No. Injured'].notna(), 'No. Injured'] / df.loc[df['No. Injured'].notna(), 'Total Deaths']\n",
    "\n",
    "# Use the mean of the percentages to fill missing values in 'No. Injured'\n",
    "#avg_injured_percentage = injured_percentage.mean()\n",
    "\n",
    "#print(avg_injured_percentage)\n",
    "\n",
    "#df['No. Injured'] = df['No. Injured'].fillna((df['Total Deaths'] * avg_injured_percentage).round())\n"
   ]
  },
  {
   "cell_type": "code",
   "execution_count": 17,
   "metadata": {},
   "outputs": [],
   "source": [
    "# Calculate the percentage of No. Affected to Total Deaths for existing values\n",
    "#affected_percentage = df.loc[df['No. Affected'].notna(), 'No. Affected'] / df.loc[df['No. Affected'].notna(), 'Total Deaths']\n",
    "\n",
    "# Use the mean of the percentages to fill missing values in 'No. Affected'\n",
    "#avg_affected_percentage = affected_percentage.mean()\n",
    "#print(avg_affected_percentage)\n",
    "\n",
    "#df['No. Affected'] = df['No. Affected'].fillna((df['Total Deaths'] * avg_affected_percentage).round())\n"
   ]
  },
  {
   "cell_type": "code",
   "execution_count": 16,
   "metadata": {},
   "outputs": [],
   "source": [
    "# Using Interpolation? TBD\n",
    "#df[['Total Deaths', 'No. Injured', 'No. Affected']] = df[['Total Deaths', 'No. Injured', 'No. Affected']].interpolate(method='linear')\n",
    "\n",
    "#Fill remaining with 0\n",
    "df['No. Injured'] = df['No. Injured'].fillna(0).astype(int)\n",
    "df['No. Affected'] = df['No. Affected'].fillna(0).astype(int)\n",
    "df['Total Deaths'] = df['Total Deaths'].fillna(0).astype(int)"
   ]
  },
  {
   "cell_type": "code",
   "execution_count": 17,
   "metadata": {},
   "outputs": [
    {
     "data": {
      "text/plain": [
       "ISO              0\n",
       "Country          0\n",
       "Disaster Type    0\n",
       "Total Deaths     0\n",
       "No. Injured      0\n",
       "No. Affected     0\n",
       "Start Year       0\n",
       "Start Month      0\n",
       "Start Day        0\n",
       "End Year         0\n",
       "End Month        0\n",
       "End Day          0\n",
       "Entry Date       0\n",
       "Last Update      0\n",
       "dtype: int64"
      ]
     },
     "execution_count": 17,
     "metadata": {},
     "output_type": "execute_result"
    }
   ],
   "source": [
    "df.isnull().sum()"
   ]
  },
  {
   "cell_type": "code",
   "execution_count": 19,
   "metadata": {},
   "outputs": [
    {
     "data": {
      "text/plain": [
       "(16188, 14)"
      ]
     },
     "execution_count": 19,
     "metadata": {},
     "output_type": "execute_result"
    }
   ],
   "source": [
    "df.shape"
   ]
  },
  {
   "cell_type": "code",
   "execution_count": 20,
   "metadata": {},
   "outputs": [],
   "source": [
    "df.to_csv(\"cleaned_em_dat.csv\", index=False)"
   ]
  }
 ],
 "metadata": {
  "kernelspec": {
   "display_name": "Python 3",
   "language": "python",
   "name": "python3"
  },
  "language_info": {
   "codemirror_mode": {
    "name": "ipython",
    "version": 3
   },
   "file_extension": ".py",
   "mimetype": "text/x-python",
   "name": "python",
   "nbconvert_exporter": "python",
   "pygments_lexer": "ipython3",
   "version": "3.9.5"
  }
 },
 "nbformat": 4,
 "nbformat_minor": 2
}
